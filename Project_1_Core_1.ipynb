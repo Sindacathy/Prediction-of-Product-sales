{
  "nbformat": 4,
  "nbformat_minor": 0,
  "metadata": {
    "colab": {
      "provenance": [],
      "authorship_tag": "ABX9TyMKaTMusN3+FjFFbFzQrrO0",
      "include_colab_link": true
    },
    "kernelspec": {
      "name": "python3",
      "display_name": "Python 3"
    },
    "language_info": {
      "name": "python"
    }
  },
  "cells": [
    {
      "cell_type": "markdown",
      "metadata": {
        "id": "view-in-github",
        "colab_type": "text"
      },
      "source": [
        "<a href=\"https://colab.research.google.com/github/Sindacathy/Prediction-of-Product-sales/blob/main/Project_1_Core_1.ipynb\" target=\"_parent\"><img src=\"https://colab.research.google.com/assets/colab-badge.svg\" alt=\"Open In Colab\"/></a>"
      ]
    },
    {
      "cell_type": "markdown",
      "source": [
        "##Prediction of Sales\n",
        " - Author: Sinda Catherine\n",
        ""
      ],
      "metadata": {
        "id": "krTrpzLQZ_fP"
      }
    },
    {
      "cell_type": "markdown",
      "source": [
        "##\"Project Overview\""
      ],
      "metadata": {
        "id": "jVqKFmk_aTMt"
      }
    },
    {
      "cell_type": "markdown",
      "source": [],
      "metadata": {
        "id": "Of4rTDoSba0M"
      }
    },
    {
      "cell_type": "markdown",
      "source": [
        "##\"Load and Inspect Data\""
      ],
      "metadata": {
        "id": "zckgIOQBahOw"
      }
    },
    {
      "cell_type": "code",
      "source": [],
      "metadata": {
        "id": "7r6zlF1Pbb0m"
      },
      "execution_count": null,
      "outputs": []
    },
    {
      "cell_type": "markdown",
      "source": [
        "##\"Cleaning Data\""
      ],
      "metadata": {
        "id": "Awn7vyAZarzO"
      }
    },
    {
      "cell_type": "code",
      "source": [],
      "metadata": {
        "id": "texpDZNkbcu9"
      },
      "execution_count": null,
      "outputs": []
    },
    {
      "cell_type": "markdown",
      "source": [
        "##\"Exploratory Data Analysis\""
      ],
      "metadata": {
        "id": "66tybV9ya5AN"
      }
    },
    {
      "cell_type": "code",
      "source": [],
      "metadata": {
        "id": "67ctwl9DbeNB"
      },
      "execution_count": null,
      "outputs": []
    },
    {
      "cell_type": "markdown",
      "source": [
        "##\"Feature Inspection\""
      ],
      "metadata": {
        "id": "PqHDEIlgbHma"
      }
    },
    {
      "cell_type": "code",
      "source": [],
      "metadata": {
        "id": "xd3sLvU0bTtK"
      },
      "execution_count": null,
      "outputs": []
    }
  ]
}